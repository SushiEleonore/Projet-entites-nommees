{
 "cells": [
  {
   "cell_type": "markdown",
   "metadata": {},
   "source": [
    "# Statistiques sur les données"
   ]
  },
  {
   "cell_type": "code",
   "execution_count": 2,
   "metadata": {},
   "outputs": [],
   "source": [
    "import os\n",
    "from collections import Counter\n",
    "import re\n",
    "import matplotlib.pyplot as plt\n",
    "import numpy as np\n",
    "\n",
    "path = \"data/\"\n",
    "\n",
    "#Txt contient tout le texte d'une notice\n",
    "def process_file(txt):\n",
    "    tags = []\n",
    "    samples = []\n",
    "    effects = []\n",
    "    lines = txt.split(\"\\n\") #Séparation du fichier en lignes\n",
    "    newtxt = \"\"\n",
    "    for line in lines :\n",
    "        words = line.split(\"\\t\") #Séparation en mots\n",
    "        if len(words)==3: #Normalement y a 3 infos par ligne\n",
    "            #mot = words[0] #le mot\n",
    "            mot = ''.join(re.findall(\"([A-Za-z]+)\", words[0])) # Recupere juste le nom du fichier\n",
    "            tag = words[2] #la classe, \"o\" ou \"B-AdverseReaction\" ou \"I-AdverseReaction\"\n",
    "            if tag.lower() != 'o':\n",
    "                effects.append(mot.lower())\n",
    "            samples.append(mot)\n",
    "            tags.append(tag)\n",
    "            #etc.\n",
    "            \n",
    "        elif len(words)!=1:\n",
    "            print(\"Erreur de format\")\n",
    "    return samples, tags, effects\n",
    "   \n",
    "tags_per_file = dict()\n",
    "words_per_file = dict()\n",
    "effects_per_file = dict()\n",
    "for file in os.listdir(path):\n",
    "    file = open(path + file, \"r\") \n",
    "    txt = file.read()\n",
    "    words, tags, effects = process_file(txt)\n",
    "    name = ''.join(re.findall(\"([A-Z]+)\", file.name)) # Recupere juste le nom du fichier\n",
    "    tags_per_file[name] = tags\n",
    "    words_per_file[name] = words\n",
    "    effects_per_file[name] = effects"
   ]
  },
  {
   "cell_type": "markdown",
   "metadata": {},
   "source": [
    "# Stats sur les tags"
   ]
  },
  {
   "cell_type": "code",
   "execution_count": 3,
   "metadata": {},
   "outputs": [
    {
     "name": "stdout",
     "output_type": "stream",
     "text": [
      "101\n",
      "Counter({'O': 3904, 'B-AdverseReaction': 290, 'I-AdverseReaction': 217, 'B-Severity': 14, 'I-Severity': 7, 'B-Factor': 6, 'B-Negation': 2, 'B-Animal': 1})\n"
     ]
    },
    {
     "data": {
      "image/png": "[encoded data removed]",
      "text/plain": [
       "<matplotlib.figure.Figure at 0x7fd544a7ac88>"
      ]
     },
     "metadata": {},
     "output_type": "display_data"
    }
   ],
   "source": [
    "print(len(tags_per_file))\n",
    "#répartition des tags pour le fichier 'ADCETRIS'\n",
    "adcetris = Counter(tags_per_file['ADCETRIS'])\n",
    "print(adcetris)\n",
    "\n",
    "fig = plt.figure(figsize=(10,6))\n",
    "plt.bar(adcetris.keys(), adcetris.values())\n",
    "plt.savefig('ADCETRIS_distribution.png')\n",
    "plt.show()"
   ]
  },
  {
   "cell_type": "code",
   "execution_count": 4,
   "metadata": {},
   "outputs": [
    {
     "name": "stdout",
     "output_type": "stream",
     "text": [
      "Counter({'O': 236241, 'B-AdverseReaction': 13064, 'I-AdverseReaction': 10733, 'B-Severity': 816, 'I-Severity': 722, 'B-Factor': 602, 'I-DrugClass': 390, 'B-DrugClass': 249, 'B-Negation': 98, 'I-Factor': 47, 'B-Animal': 44, 'I-Negation': 22})\n"
     ]
    },
    {
     "data": {
      "image/png": "[encoded data removed]",
      "text/plain": [
       "<matplotlib.figure.Figure at 0x7fd54413dfd0>"
      ]
     },
     "metadata": {},
     "output_type": "display_data"
    }
   ],
   "source": [
    "# Distribution totale\n",
    "total = Counter()\n",
    "for tags in tags_per_file.values():\n",
    "    total += Counter(tags)\n",
    "print(total)\n",
    "\n",
    "fig = plt.figure(figsize=(16,6))\n",
    "plt.bar(total.keys(), total.values())\n",
    "plt.savefig('total_distribution.png')\n",
    "plt.show()"
   ]
  },
  {
   "cell_type": "code",
   "execution_count": 5,
   "metadata": {},
   "outputs": [
    {
     "name": "stdout",
     "output_type": "stream",
     "text": [
      "{'I-AdverseReaction': 101, 'B-DrugClass': 35, 'I-Severity': 59, 'B-AdverseReaction': 101, 'B-Animal': 23, 'B-Factor': 87, 'B-Negation': 43, 'I-Factor': 11, 'O': 101, 'B-Severity': 87, 'I-Negation': 9, 'I-DrugClass': 30}\n"
     ]
    },
    {
     "data": {
      "image/png": "[encoded data removed]",
      "text/plain": [
       "<matplotlib.figure.Figure at 0x7fd544a7a080>"
      ]
     },
     "metadata": {},
     "output_type": "display_data"
    }
   ],
   "source": [
    "# Nombre de textes contenant le même exemple\n",
    "unique_tags = total.keys()\n",
    "game = {k:0 for k in unique_tags}\n",
    "for tag in unique_tags:\n",
    "    for tags in tags_per_file.values():\n",
    "        if tag in tags:\n",
    "            game[tag] += 1\n",
    "print(game)\n",
    "\n",
    "fig = plt.figure(figsize=(16,6))\n",
    "plt.bar(game.keys(), game.values())\n",
    "plt.savefig('game_distribution.png')\n",
    "plt.show()"
   ]
  },
  {
   "cell_type": "markdown",
   "metadata": {},
   "source": [
    "# Stats sur les exemples"
   ]
  },
  {
   "cell_type": "code",
   "execution_count": 6,
   "metadata": {},
   "outputs": [
    {
     "name": "stdout",
     "output_type": "stream",
     "text": [
      "===== VOCABULAIRE TOTAL, MOST_COMMON(10) ======\n",
      "[('', 1012), ('pain', 446), ('reactions', 345), ('increased', 311), ('infections', 273), ('in', 256), ('nausea', 251), ('infection', 237), ('rash', 235), ('of', 233), ('diarrhea', 226), ('decreased', 219), ('hypersensitivity', 209), ('headache', 206), ('site', 201), ('risk', 193), ('fatal', 192), ('may', 188), ('serious', 185), ('tract', 175)]\n",
      "----------------------\n",
      "===== VOCABULAIRE SUR ADCETRIS, MOST_COMMON(10) ======\n",
      "[('neuropathy', 35), ('peripheral', 27), ('', 20), ('reactions', 14), ('sensory', 14), ('neutropenia', 13), ('infection', 12), ('infusion', 12), ('pain', 11), ('nausea', 11), ('respiratory', 10), ('toxicity', 10), ('cough', 9), ('tract', 9), ('related', 9), ('anemia', 9), ('motor', 9), ('pyrexia', 9), ('fatigue', 8), ('infections', 8)]\n"
     ]
    }
   ],
   "source": [
    "# Répartition des effets secondaires pour chaque notice\n",
    "\n",
    "# Vocabulaire des effets sur toutes les notices\n",
    "voc = Counter()\n",
    "for words in effects_per_file.values():\n",
    "    voc += Counter(words)\n",
    "print('===== VOCABULAIRE TOTAL, MOST_COMMON(10) ======')\n",
    "print(voc.most_common(20))\n",
    "\n",
    "print('----------------------')\n",
    "print('===== VOCABULAIRE SUR ADCETRIS, MOST_COMMON(10) ======')\n",
    "adcetris_effects = Counter(effects_per_file['ADCETRIS'])\n",
    "print(adcetris_effects.most_common(20))"
   ]
  },
  {
   "cell_type": "code",
   "execution_count": 7,
   "metadata": {},
   "outputs": [
    {
     "name": "stdout",
     "output_type": "stream",
     "text": [
      "===== NOMBRE DE TEXTES CONTENANT LE MEME EXEMPLE, MOST_COMMON(10) ======\n",
      "[('', 82), ('pain', 81), ('nausea', 77), ('rash', 75), ('reactions', 70), ('headache', 69), ('increased', 65), ('may', 64), ('of', 64), ('hypersensitivity', 61), ('in', 60), ('diarrhea', 59), ('abdominal', 57), ('dizziness', 57), ('vomiting', 55), ('infection', 54), ('risk', 53), ('respiratory', 52), ('edema', 51), ('upper', 51)]\n"
     ]
    }
   ],
   "source": [
    "# Nombre de textes contenant le même exemple\n",
    "unique_effects = voc.keys()\n",
    "film = {k:0 for k in unique_effects}\n",
    "for e in unique_effects:\n",
    "    for effects in effects_per_file.values():\n",
    "        if e in effects:\n",
    "            film[e] += 1\n",
    "print('===== NOMBRE DE TEXTES CONTENANT LE MEME EXEMPLE, MOST_COMMON(10) ======')\n",
    "print(Counter(film).most_common(20))"
   ]
  },
  {
   "cell_type": "code",
   "execution_count": null,
   "metadata": {},
   "outputs": [],
   "source": []
  }
 ],
 "metadata": {
  "kernelspec": {
   "display_name": "Python 3",
   "language": "python",
   "name": "python3"
  },
  "language_info": {
   "codemirror_mode": {
    "name": "ipython",
    "version": 3
   },
   "file_extension": ".py",
   "mimetype": "text/x-python",
   "name": "python",
   "nbconvert_exporter": "python",
   "pygments_lexer": "ipython3",
   "version": "3.5.2"
  }
 },
 "nbformat": 4,
 "nbformat_minor": 2
}
